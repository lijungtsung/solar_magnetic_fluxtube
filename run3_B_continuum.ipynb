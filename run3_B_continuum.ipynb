{
 "cells": [
  {
   "cell_type": "markdown",
   "id": "983dff7c-8e3c-4663-bcc7-ae4264833057",
   "metadata": {},
   "source": [
    "#### In this notebook, I will show how to use the continumm B field.\n",
    "\n",
    "To run this code, run1, run2_Br and run2_Bz must be executed first"
   ]
  },
  {
   "cell_type": "code",
   "execution_count": 1,
   "id": "7db230b7-4dc1-4490-9d80-e2680b3682d6",
   "metadata": {},
   "outputs": [],
   "source": [
    "import numpy as np\n",
    "from functions import B_continuum as bfield"
   ]
  },
  {
   "cell_type": "code",
   "execution_count": 2,
   "id": "42e777ef-7cae-449c-bc96-eca8c3cac149",
   "metadata": {},
   "outputs": [
    {
     "data": {
      "text/plain": [
       "array([  0.,   0., 130.])"
      ]
     },
     "execution_count": 2,
     "metadata": {},
     "output_type": "execute_result"
    }
   ],
   "source": [
    "r_vec_arr = [0, 0, 0] ## [x, y, z] in unit cm\n",
    "\n",
    "bfield.B_vec(r_vec_arr)"
   ]
  },
  {
   "cell_type": "code",
   "execution_count": null,
   "id": "0644b8f8-d053-40dd-9b13-9475fa259218",
   "metadata": {},
   "outputs": [],
   "source": []
  }
 ],
 "metadata": {
  "kernelspec": {
   "display_name": "Python 3 (ipykernel)",
   "language": "python",
   "name": "python3"
  },
  "language_info": {
   "codemirror_mode": {
    "name": "ipython",
    "version": 3
   },
   "file_extension": ".py",
   "mimetype": "text/x-python",
   "name": "python",
   "nbconvert_exporter": "python",
   "pygments_lexer": "ipython3",
   "version": "3.9.19"
  }
 },
 "nbformat": 4,
 "nbformat_minor": 5
}
